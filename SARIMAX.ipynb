{
 "cells": [
  {
   "cell_type": "markdown",
   "id": "d5166a67",
   "metadata": {},
   "source": [
    "#### Load Packages"
   ]
  },
  {
   "cell_type": "code",
   "execution_count": 5,
   "id": "865c7771",
   "metadata": {},
   "outputs": [],
   "source": [
    "import pandas as pd\n",
    "import matplotlib.pyplot as plt\n",
    "\n",
    "from statsmodels.tsa.statespace.sarimax import SARIMAX\n",
    "from statsmodels.tsa.stattools import adfuller\n",
    "\n",
    "import warnings\n",
    "warnings.filterwarnings('ignore')"
   ]
  },
  {
   "cell_type": "markdown",
   "id": "fe323e06",
   "metadata": {},
   "source": [
    "#### Load Datasets"
   ]
  },
  {
   "cell_type": "code",
   "execution_count": 6,
   "id": "4ff3ece7",
   "metadata": {},
   "outputs": [
    {
     "data": {
      "text/html": [
       "<div>\n",
       "<style scoped>\n",
       "    .dataframe tbody tr th:only-of-type {\n",
       "        vertical-align: middle;\n",
       "    }\n",
       "\n",
       "    .dataframe tbody tr th {\n",
       "        vertical-align: top;\n",
       "    }\n",
       "\n",
       "    .dataframe thead th {\n",
       "        text-align: right;\n",
       "    }\n",
       "</style>\n",
       "<table border=\"1\" class=\"dataframe\">\n",
       "  <thead>\n",
       "    <tr style=\"text-align: right;\">\n",
       "      <th></th>\n",
       "      <th>date</th>\n",
       "      <th>meantemp</th>\n",
       "      <th>humidity</th>\n",
       "      <th>wind_speed</th>\n",
       "      <th>meanpressure</th>\n",
       "    </tr>\n",
       "  </thead>\n",
       "  <tbody>\n",
       "    <tr>\n",
       "      <th>1459</th>\n",
       "      <td>30-12-2016</td>\n",
       "      <td>14.095238</td>\n",
       "      <td>89.666667</td>\n",
       "      <td>6.266667</td>\n",
       "      <td>1017.904762</td>\n",
       "    </tr>\n",
       "    <tr>\n",
       "      <th>1460</th>\n",
       "      <td>31-12-2016</td>\n",
       "      <td>15.052632</td>\n",
       "      <td>87.000000</td>\n",
       "      <td>7.325000</td>\n",
       "      <td>1016.100000</td>\n",
       "    </tr>\n",
       "    <tr>\n",
       "      <th>1461</th>\n",
       "      <td>01-01-2017</td>\n",
       "      <td>10.000000</td>\n",
       "      <td>100.000000</td>\n",
       "      <td>0.000000</td>\n",
       "      <td>1016.000000</td>\n",
       "    </tr>\n",
       "  </tbody>\n",
       "</table>\n",
       "</div>"
      ],
      "text/plain": [
       "            date   meantemp    humidity  wind_speed  meanpressure\n",
       "1459  30-12-2016  14.095238   89.666667    6.266667   1017.904762\n",
       "1460  31-12-2016  15.052632   87.000000    7.325000   1016.100000\n",
       "1461  01-01-2017  10.000000  100.000000    0.000000   1016.000000"
      ]
     },
     "execution_count": 6,
     "metadata": {},
     "output_type": "execute_result"
    }
   ],
   "source": [
    "df = pd.read_csv(r\"C:\\Users\\Sree\\Downloads\\Test-2.csv\")\n",
    "df.tail(3)"
   ]
  },
  {
   "cell_type": "markdown",
   "id": "440f1992",
   "metadata": {},
   "source": [
    "#### to date and time"
   ]
  },
  {
   "cell_type": "code",
   "execution_count": 7,
   "id": "d77e6715",
   "metadata": {},
   "outputs": [],
   "source": [
    "df['date'] = pd.to_datetime(df['date'])\n",
    "df.set_index('date',inplace = True)"
   ]
  },
  {
   "cell_type": "markdown",
   "id": "84e100c2",
   "metadata": {},
   "source": [
    "#### stationarty checking"
   ]
  },
  {
   "cell_type": "code",
   "execution_count": 8,
   "id": "75e3f68b",
   "metadata": {},
   "outputs": [
    {
     "name": "stdout",
     "output_type": "stream",
     "text": [
      "ADF Test Statistic : -2.0210690561279168\n",
      "p-value : 0.2774121371408142\n",
      "Lags used : 10\n",
      "Number of Observation Used : 1451\n",
      "data is non-stationary\n"
     ]
    }
   ],
   "source": [
    "# H0: It is non stationary\n",
    "# H1: It is stationary\n",
    "\n",
    "def adf_test(data):\n",
    "    result = adfuller(data)\n",
    "    labels = ['ADF Test Statistic','p-value','Lags used','Number of Observation Used']\n",
    "    for value,label in zip(result,labels):\n",
    "        print(label+ ' : '+str(value))\n",
    "    if result[1]>=0.05:\n",
    "        print('data is non-stationary')\n",
    "    else:\n",
    "        print(\"data is stationary\")\n",
    "        \n",
    "        \n",
    "adf_test(df['meantemp'])"
   ]
  },
  {
   "cell_type": "markdown",
   "id": "bc761b67",
   "metadata": {},
   "source": [
    "#### Model Creation"
   ]
  },
  {
   "cell_type": "code",
   "execution_count": 9,
   "id": "9dd380bc",
   "metadata": {},
   "outputs": [
    {
     "data": {
      "text/html": [
       "<table class=\"simpletable\">\n",
       "<caption>SARIMAX Results</caption>\n",
       "<tr>\n",
       "  <th>Dep. Variable:</th>              <td>meantemp</td>            <th>  No. Observations:  </th>   <td>1462</td>   \n",
       "</tr>\n",
       "<tr>\n",
       "  <th>Model:</th>           <td>SARIMAX(2, 2, 1)x(1, 1, 1, 12)</td> <th>  Log Likelihood     </th> <td>-2407.405</td>\n",
       "</tr>\n",
       "<tr>\n",
       "  <th>Date:</th>                   <td>Fri, 17 Nov 2023</td>        <th>  AIC                </th> <td>4828.810</td> \n",
       "</tr>\n",
       "<tr>\n",
       "  <th>Time:</th>                       <td>21:47:20</td>            <th>  BIC                </th> <td>4865.755</td> \n",
       "</tr>\n",
       "<tr>\n",
       "  <th>Sample:</th>                         <td>0</td>               <th>  HQIC               </th> <td>4842.598</td> \n",
       "</tr>\n",
       "<tr>\n",
       "  <th></th>                             <td> - 1462</td>            <th>                     </th>     <td> </td>    \n",
       "</tr>\n",
       "<tr>\n",
       "  <th>Covariance Type:</th>               <td>opg</td>              <th>                     </th>     <td> </td>    \n",
       "</tr>\n",
       "</table>\n",
       "<table class=\"simpletable\">\n",
       "<tr>\n",
       "      <td></td>        <th>coef</th>     <th>std err</th>      <th>z</th>      <th>P>|z|</th>  <th>[0.025</th>    <th>0.975]</th>  \n",
       "</tr>\n",
       "<tr>\n",
       "  <th>humidity</th> <td>   -0.1353</td> <td>    0.003</td> <td>  -40.539</td> <td> 0.000</td> <td>   -0.142</td> <td>   -0.129</td>\n",
       "</tr>\n",
       "<tr>\n",
       "  <th>ar.L1</th>    <td>   -0.0147</td> <td>    0.022</td> <td>   -0.676</td> <td> 0.499</td> <td>   -0.057</td> <td>    0.028</td>\n",
       "</tr>\n",
       "<tr>\n",
       "  <th>ar.L2</th>    <td>   -0.1444</td> <td>    0.024</td> <td>   -6.107</td> <td> 0.000</td> <td>   -0.191</td> <td>   -0.098</td>\n",
       "</tr>\n",
       "<tr>\n",
       "  <th>ma.L1</th>    <td>   -0.9994</td> <td>    0.030</td> <td>  -33.818</td> <td> 0.000</td> <td>   -1.057</td> <td>   -0.941</td>\n",
       "</tr>\n",
       "<tr>\n",
       "  <th>ar.S.L12</th> <td>    0.0363</td> <td>    0.024</td> <td>    1.529</td> <td> 0.126</td> <td>   -0.010</td> <td>    0.083</td>\n",
       "</tr>\n",
       "<tr>\n",
       "  <th>ma.S.L12</th> <td>   -1.0000</td> <td>    6.017</td> <td>   -0.166</td> <td> 0.868</td> <td>  -12.793</td> <td>   10.793</td>\n",
       "</tr>\n",
       "<tr>\n",
       "  <th>sigma2</th>   <td>    1.5503</td> <td>    9.314</td> <td>    0.166</td> <td> 0.868</td> <td>  -16.705</td> <td>   19.806</td>\n",
       "</tr>\n",
       "</table>\n",
       "<table class=\"simpletable\">\n",
       "<tr>\n",
       "  <th>Ljung-Box (L1) (Q):</th>     <td>1.13</td> <th>  Jarque-Bera (JB):  </th> <td>412.31</td>\n",
       "</tr>\n",
       "<tr>\n",
       "  <th>Prob(Q):</th>                <td>0.29</td> <th>  Prob(JB):          </th>  <td>0.00</td> \n",
       "</tr>\n",
       "<tr>\n",
       "  <th>Heteroskedasticity (H):</th> <td>0.91</td> <th>  Skew:              </th>  <td>-0.33</td>\n",
       "</tr>\n",
       "<tr>\n",
       "  <th>Prob(H) (two-sided):</th>    <td>0.29</td> <th>  Kurtosis:          </th>  <td>5.53</td> \n",
       "</tr>\n",
       "</table><br/><br/>Warnings:<br/>[1] Covariance matrix calculated using the outer product of gradients (complex-step)."
      ],
      "text/plain": [
       "<class 'statsmodels.iolib.summary.Summary'>\n",
       "\"\"\"\n",
       "                                     SARIMAX Results                                      \n",
       "==========================================================================================\n",
       "Dep. Variable:                           meantemp   No. Observations:                 1462\n",
       "Model:             SARIMAX(2, 2, 1)x(1, 1, 1, 12)   Log Likelihood               -2407.405\n",
       "Date:                            Fri, 17 Nov 2023   AIC                           4828.810\n",
       "Time:                                    21:47:20   BIC                           4865.755\n",
       "Sample:                                         0   HQIC                          4842.598\n",
       "                                           - 1462                                         \n",
       "Covariance Type:                              opg                                         \n",
       "==============================================================================\n",
       "                 coef    std err          z      P>|z|      [0.025      0.975]\n",
       "------------------------------------------------------------------------------\n",
       "humidity      -0.1353      0.003    -40.539      0.000      -0.142      -0.129\n",
       "ar.L1         -0.0147      0.022     -0.676      0.499      -0.057       0.028\n",
       "ar.L2         -0.1444      0.024     -6.107      0.000      -0.191      -0.098\n",
       "ma.L1         -0.9994      0.030    -33.818      0.000      -1.057      -0.941\n",
       "ar.S.L12       0.0363      0.024      1.529      0.126      -0.010       0.083\n",
       "ma.S.L12      -1.0000      6.017     -0.166      0.868     -12.793      10.793\n",
       "sigma2         1.5503      9.314      0.166      0.868     -16.705      19.806\n",
       "===================================================================================\n",
       "Ljung-Box (L1) (Q):                   1.13   Jarque-Bera (JB):               412.31\n",
       "Prob(Q):                              0.29   Prob(JB):                         0.00\n",
       "Heteroskedasticity (H):               0.91   Skew:                            -0.33\n",
       "Prob(H) (two-sided):                  0.29   Kurtosis:                         5.53\n",
       "===================================================================================\n",
       "\n",
       "Warnings:\n",
       "[1] Covariance matrix calculated using the outer product of gradients (complex-step).\n",
       "\"\"\""
      ]
     },
     "execution_count": 9,
     "metadata": {},
     "output_type": "execute_result"
    }
   ],
   "source": [
    "model = SARIMAX(df['meantemp'],order = (2,2,1),seasonal_order=(1,1,1,12),exog = df['humidity'])\n",
    "result = model.fit()\n",
    "result.summary()"
   ]
  },
  {
   "cell_type": "markdown",
   "id": "e4a9810b",
   "metadata": {},
   "source": [
    "#### Forecasting"
   ]
  },
  {
   "cell_type": "code",
   "execution_count": 10,
   "id": "9fa53843",
   "metadata": {},
   "outputs": [],
   "source": [
    "forecast_steps = 30\n",
    "forecast = result.predict(steps = forecast_steps)"
   ]
  },
  {
   "cell_type": "markdown",
   "id": "1bbe767d",
   "metadata": {},
   "source": [
    "#### Plot the forecast"
   ]
  },
  {
   "cell_type": "code",
   "execution_count": 11,
   "id": "66978b12",
   "metadata": {},
   "outputs": [],
   "source": [
    "x = df.index[-10:]\n",
    "y1 = df['meantemp'][-10:]\n",
    "y2 = forecast[-10:]"
   ]
  },
  {
   "cell_type": "code",
   "execution_count": 12,
   "id": "ef7fa03f",
   "metadata": {},
   "outputs": [
    {
     "data": {
      "image/png": "[encoded data removed]",
      "text/plain": [
       "<Figure size 800x400 with 1 Axes>"
      ]
     },
     "metadata": {},
     "output_type": "display_data"
    }
   ],
   "source": [
    "plt.figure(figsize=(8,4))\n",
    "plt.plot(y1,label = 'Actual Temperature')\n",
    "plt.plot(y2,label = 'Forecasted Temperature')\n",
    "plt.title('Sarimax Temperature Forecast')\n",
    "plt.legend()\n",
    "plt.show()"
   ]
  },
  {
   "cell_type": "code",
   "execution_count": null,
   "id": "81fde31a",
   "metadata": {},
   "outputs": [],
   "source": []
  }
 ],
 "metadata": {
  "kernelspec": {
   "display_name": "Python 3 (ipykernel)",
   "language": "python",
   "name": "python3"
  },
  "language_info": {
   "codemirror_mode": {
    "name": "ipython",
    "version": 3
   },
   "file_extension": ".py",
   "mimetype": "text/x-python",
   "name": "python",
   "nbconvert_exporter": "python",
   "pygments_lexer": "ipython3",
   "version": "3.11.3"
  }
 },
 "nbformat": 4,
 "nbformat_minor": 5
}
