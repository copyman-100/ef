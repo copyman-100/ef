{
 "cells": [
  {
   "cell_type": "markdown",
   "id": "23502ad7",
   "metadata": {},
   "source": [
    "#### Load packages"
   ]
  },
  {
   "cell_type": "code",
   "execution_count": 1,
   "id": "c08f01ad",
   "metadata": {},
   "outputs": [],
   "source": [
    "# import Required packages\n",
    "import pandas as pd\n",
    "import matplotlib.pyplot as plt\n",
    "from statsmodels.tsa.api import SimpleExpSmoothing"
   ]
  },
  {
   "cell_type": "markdown",
   "id": "ee14e330",
   "metadata": {},
   "source": [
    "#### LoaD Datasets"
   ]
  },
  {
   "cell_type": "code",
   "execution_count": 2,
   "id": "6124b26d",
   "metadata": {},
   "outputs": [
    {
     "data": {
      "text/html": [
       "<div>\n",
       "<style scoped>\n",
       "    .dataframe tbody tr th:only-of-type {\n",
       "        vertical-align: middle;\n",
       "    }\n",
       "\n",
       "    .dataframe tbody tr th {\n",
       "        vertical-align: top;\n",
       "    }\n",
       "\n",
       "    .dataframe thead th {\n",
       "        text-align: right;\n",
       "    }\n",
       "</style>\n",
       "<table border=\"1\" class=\"dataframe\">\n",
       "  <thead>\n",
       "    <tr style=\"text-align: right;\">\n",
       "      <th></th>\n",
       "      <th>Date</th>\n",
       "      <th>Open</th>\n",
       "      <th>High</th>\n",
       "      <th>Low</th>\n",
       "      <th>Close</th>\n",
       "      <th>Adj Close</th>\n",
       "      <th>Volume</th>\n",
       "    </tr>\n",
       "  </thead>\n",
       "  <tbody>\n",
       "    <tr>\n",
       "      <th>0</th>\n",
       "      <td>2022-10-31</td>\n",
       "      <td>233.759995</td>\n",
       "      <td>234.919998</td>\n",
       "      <td>231.149994</td>\n",
       "      <td>232.130005</td>\n",
       "      <td>229.908890</td>\n",
       "      <td>28357300</td>\n",
       "    </tr>\n",
       "    <tr>\n",
       "      <th>1</th>\n",
       "      <td>2022-11-01</td>\n",
       "      <td>234.600006</td>\n",
       "      <td>235.740005</td>\n",
       "      <td>227.330002</td>\n",
       "      <td>228.169998</td>\n",
       "      <td>225.986771</td>\n",
       "      <td>30592300</td>\n",
       "    </tr>\n",
       "    <tr>\n",
       "      <th>2</th>\n",
       "      <td>2022-11-02</td>\n",
       "      <td>229.460007</td>\n",
       "      <td>231.300003</td>\n",
       "      <td>220.039993</td>\n",
       "      <td>220.100006</td>\n",
       "      <td>217.994003</td>\n",
       "      <td>38407000</td>\n",
       "    </tr>\n",
       "  </tbody>\n",
       "</table>\n",
       "</div>"
      ],
      "text/plain": [
       "         Date        Open        High         Low       Close   Adj Close  \\\n",
       "0  2022-10-31  233.759995  234.919998  231.149994  232.130005  229.908890   \n",
       "1  2022-11-01  234.600006  235.740005  227.330002  228.169998  225.986771   \n",
       "2  2022-11-02  229.460007  231.300003  220.039993  220.100006  217.994003   \n",
       "\n",
       "     Volume  \n",
       "0  28357300  \n",
       "1  30592300  \n",
       "2  38407000  "
      ]
     },
     "execution_count": 2,
     "metadata": {},
     "output_type": "execute_result"
    }
   ],
   "source": [
    "# Load the data\n",
    "df = pd.read_csv(r\"C:\\Users\\Sree\\Downloads\\MSFT.csv\")\n",
    "df.head(3)"
   ]
  },
  {
   "cell_type": "markdown",
   "id": "af12ad74",
   "metadata": {},
   "source": [
    "#### Model"
   ]
  },
  {
   "cell_type": "code",
   "execution_count": 3,
   "id": "9be4b0e2",
   "metadata": {},
   "outputs": [
    {
     "data": {
      "text/html": [
       "<table class=\"simpletable\">\n",
       "<caption>SimpleExpSmoothing Model Results</caption>\n",
       "<tr>\n",
       "  <th>Dep. Variable:</th>           <td>Close</td>       <th>  No. Observations:  </th>        <td>251</td>      \n",
       "</tr>\n",
       "<tr>\n",
       "  <th>Model:</th>            <td>SimpleExpSmoothing</td> <th>  SSE                </th>     <td>56319.785</td>   \n",
       "</tr>\n",
       "<tr>\n",
       "  <th>Optimized:</th>               <td>False</td>       <th>  AIC                </th>     <td>1362.750</td>    \n",
       "</tr>\n",
       "<tr>\n",
       "  <th>Trend:</th>                   <td>None</td>        <th>  BIC                </th>     <td>1369.801</td>    \n",
       "</tr>\n",
       "<tr>\n",
       "  <th>Seasonal:</th>                <td>None</td>        <th>  AICC               </th>     <td>1362.913</td>    \n",
       "</tr>\n",
       "<tr>\n",
       "  <th>Seasonal Periods:</th>        <td>None</td>        <th>  Date:              </th> <td>Fri, 17 Nov 2023</td>\n",
       "</tr>\n",
       "<tr>\n",
       "  <th>Box-Cox:</th>                 <td>False</td>       <th>  Time:              </th>     <td>23:08:14</td>    \n",
       "</tr>\n",
       "<tr>\n",
       "  <th>Box-Cox Coeff.:</th>          <td>None</td>        <th>                     </th>         <td> </td>       \n",
       "</tr>\n",
       "</table>\n",
       "<table class=\"simpletable\">\n",
       "<tr>\n",
       "         <td></td>                 <th>coeff</th>                <th>code</th>               <th>optimized</th>     \n",
       "</tr>\n",
       "<tr>\n",
       "  <th>smoothing_level</th> <td>           0.0440000</td> <td>               alpha</td> <td>               False</td>\n",
       "</tr>\n",
       "<tr>\n",
       "  <th>initial_level</th>   <td>           232.13001</td> <td>                 l.0</td> <td>               False</td>\n",
       "</tr>\n",
       "</table>"
      ],
      "text/plain": [
       "<class 'statsmodels.iolib.summary.Summary'>\n",
       "\"\"\"\n",
       "                       SimpleExpSmoothing Model Results                       \n",
       "==============================================================================\n",
       "Dep. Variable:                  Close   No. Observations:                  251\n",
       "Model:             SimpleExpSmoothing   SSE                          56319.785\n",
       "Optimized:                      False   AIC                           1362.750\n",
       "Trend:                           None   BIC                           1369.801\n",
       "Seasonal:                        None   AICC                          1362.913\n",
       "Seasonal Periods:                None   Date:                 Fri, 17 Nov 2023\n",
       "Box-Cox:                        False   Time:                         23:08:14\n",
       "Box-Cox Coeff.:                  None                                         \n",
       "==============================================================================\n",
       "                       coeff                 code              optimized      \n",
       "------------------------------------------------------------------------------\n",
       "smoothing_level            0.0440000                alpha                False\n",
       "initial_level              232.13001                  l.0                False\n",
       "------------------------------------------------------------------------------\n",
       "\"\"\""
      ]
     },
     "execution_count": 3,
     "metadata": {},
     "output_type": "execute_result"
    }
   ],
   "source": [
    "model = SimpleExpSmoothing(df['Close'])\n",
    "results = model.fit(smoothing_level=0.044, optimized=False)\n",
    "results.summary()"
   ]
  },
  {
   "cell_type": "markdown",
   "id": "f9fd5a34",
   "metadata": {},
   "source": [
    "#### Prediction"
   ]
  },
  {
   "cell_type": "code",
   "execution_count": 4,
   "id": "69b00fe0",
   "metadata": {},
   "outputs": [],
   "source": [
    "\n",
    "forecast_steps = 15\n",
    "forecast = results.forecast(steps = forecast_steps)\n"
   ]
  },
  {
   "cell_type": "markdown",
   "id": "8c34fb36",
   "metadata": {},
   "source": [
    "#### Plot"
   ]
  },
  {
   "cell_type": "code",
   "execution_count": 5,
   "id": "1521d020",
   "metadata": {},
   "outputs": [
    {
     "data": {
      "image/png": "[encoded data removed]",
      "text/plain": [
       "<Figure size 640x480 with 1 Axes>"
      ]
     },
     "metadata": {},
     "output_type": "display_data"
    }
   ],
   "source": [
    "# Plot the original data and forecasts\n",
    "plt.plot(df['Close'], label='Actual Data')\n",
    "plt.plot(forecast, label='Forecast', linestyle='dashed')\n",
    "plt.legend()\n",
    "plt.show()"
   ]
  },
  {
   "cell_type": "code",
   "execution_count": null,
   "id": "a1f58bcc",
   "metadata": {},
   "outputs": [],
   "source": []
  }
 ],
 "metadata": {
  "kernelspec": {
   "display_name": "Python 3 (ipykernel)",
   "language": "python",
   "name": "python3"
  },
  "language_info": {
   "codemirror_mode": {
    "name": "ipython",
    "version": 3
   },
   "file_extension": ".py",
   "mimetype": "text/x-python",
   "name": "python",
   "nbconvert_exporter": "python",
   "pygments_lexer": "ipython3",
   "version": "3.11.3"
  }
 },
 "nbformat": 4,
 "nbformat_minor": 5
}
