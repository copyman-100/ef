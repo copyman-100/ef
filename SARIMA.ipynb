{
 "cells": [
  {
   "cell_type": "markdown",
   "id": "2e33437f",
   "metadata": {},
   "source": [
    "#### Load Packages"
   ]
  },
  {
   "cell_type": "code",
   "execution_count": 16,
   "id": "158af8d6",
   "metadata": {},
   "outputs": [],
   "source": [
    "import pandas as pd\n",
    "import matplotlib.pyplot as plt\n",
    "\n",
    "from statsmodels.tsa.statespace.sarimax import SARIMAX\n",
    "from statsmodels.tsa.stattools import adfuller\n",
    "\n",
    "import warnings\n",
    "warnings.filterwarnings('ignore')"
   ]
  },
  {
   "cell_type": "markdown",
   "id": "7f422ad3",
   "metadata": {},
   "source": [
    "#### Load Datasets"
   ]
  },
  {
   "cell_type": "code",
   "execution_count": 38,
   "id": "0de03b92",
   "metadata": {},
   "outputs": [
    {
     "data": {
      "text/html": [
       "<div>\n",
       "<style scoped>\n",
       "    .dataframe tbody tr th:only-of-type {\n",
       "        vertical-align: middle;\n",
       "    }\n",
       "\n",
       "    .dataframe tbody tr th {\n",
       "        vertical-align: top;\n",
       "    }\n",
       "\n",
       "    .dataframe thead th {\n",
       "        text-align: right;\n",
       "    }\n",
       "</style>\n",
       "<table border=\"1\" class=\"dataframe\">\n",
       "  <thead>\n",
       "    <tr style=\"text-align: right;\">\n",
       "      <th></th>\n",
       "      <th>date</th>\n",
       "      <th>meantemp</th>\n",
       "      <th>humidity</th>\n",
       "      <th>wind_speed</th>\n",
       "      <th>meanpressure</th>\n",
       "    </tr>\n",
       "  </thead>\n",
       "  <tbody>\n",
       "    <tr>\n",
       "      <th>1459</th>\n",
       "      <td>30-12-2016</td>\n",
       "      <td>14.095238</td>\n",
       "      <td>89.666667</td>\n",
       "      <td>6.266667</td>\n",
       "      <td>1017.904762</td>\n",
       "    </tr>\n",
       "    <tr>\n",
       "      <th>1460</th>\n",
       "      <td>31-12-2016</td>\n",
       "      <td>15.052632</td>\n",
       "      <td>87.000000</td>\n",
       "      <td>7.325000</td>\n",
       "      <td>1016.100000</td>\n",
       "    </tr>\n",
       "    <tr>\n",
       "      <th>1461</th>\n",
       "      <td>01-01-2017</td>\n",
       "      <td>10.000000</td>\n",
       "      <td>100.000000</td>\n",
       "      <td>0.000000</td>\n",
       "      <td>1016.000000</td>\n",
       "    </tr>\n",
       "  </tbody>\n",
       "</table>\n",
       "</div>"
      ],
      "text/plain": [
       "            date   meantemp    humidity  wind_speed  meanpressure\n",
       "1459  30-12-2016  14.095238   89.666667    6.266667   1017.904762\n",
       "1460  31-12-2016  15.052632   87.000000    7.325000   1016.100000\n",
       "1461  01-01-2017  10.000000  100.000000    0.000000   1016.000000"
      ]
     },
     "execution_count": 38,
     "metadata": {},
     "output_type": "execute_result"
    }
   ],
   "source": [
    "df = pd.read_csv(r\"C:\\Users\\Sree\\Downloads\\Test-2.csv\")\n",
    "df.tail(3)"
   ]
  },
  {
   "cell_type": "markdown",
   "id": "f26830e4",
   "metadata": {},
   "source": [
    "#### to date and time"
   ]
  },
  {
   "cell_type": "code",
   "execution_count": 40,
   "id": "47b4478f",
   "metadata": {},
   "outputs": [],
   "source": [
    "df['date'] = pd.to_datetime(df['date'])\n",
    "df.set_index('date',inplace = True)"
   ]
  },
  {
   "cell_type": "markdown",
   "id": "8bcac25b",
   "metadata": {},
   "source": [
    "#### stationarty checking"
   ]
  },
  {
   "cell_type": "code",
   "execution_count": 41,
   "id": "dd5ada35",
   "metadata": {},
   "outputs": [
    {
     "name": "stdout",
     "output_type": "stream",
     "text": [
      "ADF Test Statistic : -2.0210690561279168\n",
      "p-value : 0.2774121371408142\n",
      "Lags used : 10\n",
      "Number of Observation Used : 1451\n",
      "data is non-stationary\n"
     ]
    }
   ],
   "source": [
    "# H0: It is non stationary\n",
    "# H1: It is stationary\n",
    "\n",
    "def adf_test(data):\n",
    "    result = adfuller(data)\n",
    "    labels = ['ADF Test Statistic','p-value','Lags used','Number of Observation Used']\n",
    "    for value,label in zip(result,labels):\n",
    "        print(label+ ' : '+str(value))\n",
    "    if result[1]>=0.05:\n",
    "        print('data is non-stationary')\n",
    "    else:\n",
    "        print(\"data is stationary\")\n",
    "        \n",
    "        \n",
    "adf_test(df['meantemp'])"
   ]
  },
  {
   "cell_type": "markdown",
   "id": "572f9d57",
   "metadata": {},
   "source": [
    "#### Model Creation"
   ]
  },
  {
   "cell_type": "code",
   "execution_count": 42,
   "id": "ac901b1b",
   "metadata": {},
   "outputs": [
    {
     "data": {
      "text/html": [
       "<table class=\"simpletable\">\n",
       "<caption>SARIMAX Results</caption>\n",
       "<tr>\n",
       "  <th>Dep. Variable:</th>              <td>meantemp</td>            <th>  No. Observations:  </th>   <td>1462</td>   \n",
       "</tr>\n",
       "<tr>\n",
       "  <th>Model:</th>           <td>SARIMAX(2, 2, 1)x(1, 1, 1, 12)</td> <th>  Log Likelihood     </th> <td>-2807.742</td>\n",
       "</tr>\n",
       "<tr>\n",
       "  <th>Date:</th>                   <td>Fri, 17 Nov 2023</td>        <th>  AIC                </th> <td>5627.484</td> \n",
       "</tr>\n",
       "<tr>\n",
       "  <th>Time:</th>                       <td>21:43:06</td>            <th>  BIC                </th> <td>5659.151</td> \n",
       "</tr>\n",
       "<tr>\n",
       "  <th>Sample:</th>                         <td>0</td>               <th>  HQIC               </th> <td>5639.302</td> \n",
       "</tr>\n",
       "<tr>\n",
       "  <th></th>                             <td> - 1462</td>            <th>                     </th>     <td> </td>    \n",
       "</tr>\n",
       "<tr>\n",
       "  <th>Covariance Type:</th>               <td>opg</td>              <th>                     </th>     <td> </td>    \n",
       "</tr>\n",
       "</table>\n",
       "<table class=\"simpletable\">\n",
       "<tr>\n",
       "      <td></td>        <th>coef</th>     <th>std err</th>      <th>z</th>      <th>P>|z|</th>  <th>[0.025</th>    <th>0.975]</th>  \n",
       "</tr>\n",
       "<tr>\n",
       "  <th>ar.L1</th>    <td>   -0.1767</td> <td>    0.021</td> <td>   -8.412</td> <td> 0.000</td> <td>   -0.218</td> <td>   -0.136</td>\n",
       "</tr>\n",
       "<tr>\n",
       "  <th>ar.L2</th>    <td>   -0.1044</td> <td>    0.025</td> <td>   -4.206</td> <td> 0.000</td> <td>   -0.153</td> <td>   -0.056</td>\n",
       "</tr>\n",
       "<tr>\n",
       "  <th>ma.L1</th>    <td>   -0.9993</td> <td>    0.025</td> <td>  -40.100</td> <td> 0.000</td> <td>   -1.048</td> <td>   -0.950</td>\n",
       "</tr>\n",
       "<tr>\n",
       "  <th>ar.S.L12</th> <td>    0.0267</td> <td>    0.023</td> <td>    1.155</td> <td> 0.248</td> <td>   -0.019</td> <td>    0.072</td>\n",
       "</tr>\n",
       "<tr>\n",
       "  <th>ma.S.L12</th> <td>   -0.9998</td> <td>    0.659</td> <td>   -1.517</td> <td> 0.129</td> <td>   -2.292</td> <td>    0.292</td>\n",
       "</tr>\n",
       "<tr>\n",
       "  <th>sigma2</th>   <td>    2.6930</td> <td>    1.757</td> <td>    1.533</td> <td> 0.125</td> <td>   -0.751</td> <td>    6.137</td>\n",
       "</tr>\n",
       "</table>\n",
       "<table class=\"simpletable\">\n",
       "<tr>\n",
       "  <th>Ljung-Box (L1) (Q):</th>     <td>0.48</td> <th>  Jarque-Bera (JB):  </th> <td>225.22</td>\n",
       "</tr>\n",
       "<tr>\n",
       "  <th>Prob(Q):</th>                <td>0.49</td> <th>  Prob(JB):          </th>  <td>0.00</td> \n",
       "</tr>\n",
       "<tr>\n",
       "  <th>Heteroskedasticity (H):</th> <td>0.83</td> <th>  Skew:              </th>  <td>-0.50</td>\n",
       "</tr>\n",
       "<tr>\n",
       "  <th>Prob(H) (two-sided):</th>    <td>0.04</td> <th>  Kurtosis:          </th>  <td>4.66</td> \n",
       "</tr>\n",
       "</table><br/><br/>Warnings:<br/>[1] Covariance matrix calculated using the outer product of gradients (complex-step)."
      ],
      "text/plain": [
       "<class 'statsmodels.iolib.summary.Summary'>\n",
       "\"\"\"\n",
       "                                     SARIMAX Results                                      \n",
       "==========================================================================================\n",
       "Dep. Variable:                           meantemp   No. Observations:                 1462\n",
       "Model:             SARIMAX(2, 2, 1)x(1, 1, 1, 12)   Log Likelihood               -2807.742\n",
       "Date:                            Fri, 17 Nov 2023   AIC                           5627.484\n",
       "Time:                                    21:43:06   BIC                           5659.151\n",
       "Sample:                                         0   HQIC                          5639.302\n",
       "                                           - 1462                                         \n",
       "Covariance Type:                              opg                                         \n",
       "==============================================================================\n",
       "                 coef    std err          z      P>|z|      [0.025      0.975]\n",
       "------------------------------------------------------------------------------\n",
       "ar.L1         -0.1767      0.021     -8.412      0.000      -0.218      -0.136\n",
       "ar.L2         -0.1044      0.025     -4.206      0.000      -0.153      -0.056\n",
       "ma.L1         -0.9993      0.025    -40.100      0.000      -1.048      -0.950\n",
       "ar.S.L12       0.0267      0.023      1.155      0.248      -0.019       0.072\n",
       "ma.S.L12      -0.9998      0.659     -1.517      0.129      -2.292       0.292\n",
       "sigma2         2.6930      1.757      1.533      0.125      -0.751       6.137\n",
       "===================================================================================\n",
       "Ljung-Box (L1) (Q):                   0.48   Jarque-Bera (JB):               225.22\n",
       "Prob(Q):                              0.49   Prob(JB):                         0.00\n",
       "Heteroskedasticity (H):               0.83   Skew:                            -0.50\n",
       "Prob(H) (two-sided):                  0.04   Kurtosis:                         4.66\n",
       "===================================================================================\n",
       "\n",
       "Warnings:\n",
       "[1] Covariance matrix calculated using the outer product of gradients (complex-step).\n",
       "\"\"\""
      ]
     },
     "execution_count": 42,
     "metadata": {},
     "output_type": "execute_result"
    }
   ],
   "source": [
    "model = SARIMAX(df['meantemp'],order = (2,2,1),seasonal_order=(1,1,1,12))\n",
    "result = model.fit()\n",
    "result.summary()"
   ]
  },
  {
   "cell_type": "markdown",
   "id": "2b11305b",
   "metadata": {},
   "source": [
    "#### Prediction"
   ]
  },
  {
   "cell_type": "code",
   "execution_count": 43,
   "id": "26b2ab4e",
   "metadata": {},
   "outputs": [],
   "source": [
    "forecast_steps = 30\n",
    "forecast = result.predict(steps = forecast_steps)"
   ]
  },
  {
   "cell_type": "markdown",
   "id": "085ebb79",
   "metadata": {},
   "source": [
    "#### Plot the forecast"
   ]
  },
  {
   "cell_type": "code",
   "execution_count": 44,
   "id": "19e4ddbb",
   "metadata": {},
   "outputs": [],
   "source": [
    "x = df.index[-10:]\n",
    "y1 = df['meantemp'][-10:]\n",
    "y2 = forecast[-10:]"
   ]
  },
  {
   "cell_type": "code",
   "execution_count": 45,
   "id": "a1cb5b58",
   "metadata": {},
   "outputs": [
    {
     "data": {
      "image/png": "[encoded data removed]",
      "text/plain": [
       "<Figure size 800x400 with 1 Axes>"
      ]
     },
     "metadata": {},
     "output_type": "display_data"
    }
   ],
   "source": [
    "plt.figure(figsize=(8,4))\n",
    "plt.plot(y1,label = 'Actual Temperature')\n",
    "plt.plot(y2,label = 'Forecasted Temperature')\n",
    "plt.title('Sarima Temperature Forecast')\n",
    "plt.legend()\n",
    "plt.show()"
   ]
  }
 ],
 "metadata": {
  "kernelspec": {
   "display_name": "Python 3 (ipykernel)",
   "language": "python",
   "name": "python3"
  },
  "language_info": {
   "codemirror_mode": {
    "name": "ipython",
    "version": 3
   },
   "file_extension": ".py",
   "mimetype": "text/x-python",
   "name": "python",
   "nbconvert_exporter": "python",
   "pygments_lexer": "ipython3",
   "version": "3.11.3"
  }
 },
 "nbformat": 4,
 "nbformat_minor": 5
}
